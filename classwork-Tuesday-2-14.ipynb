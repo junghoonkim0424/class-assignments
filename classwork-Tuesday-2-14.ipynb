{
 "cells": [
  {
   "cell_type": "code",
   "execution_count": 14,
   "metadata": {
    "collapsed": true
   },
   "outputs": [],
   "source": [
    "def greeter():\n",
    "    print(\"Welcome!\")\n",
    "    print(\"This function takes no arguments\")\n",
    "\n",
    "\n",
    "def stringAnalyzer(ss):\n",
    "    length=len(ss)\n",
    "    yy=26; zz=yy+length;\n",
    "    print(\"This string has {} characters\".format(length))\n",
    "    return zz\n",
    "        "
   ]
  },
  {
   "cell_type": "code",
   "execution_count": 18,
   "metadata": {
    "collapsed": false
   },
   "outputs": [],
   "source": [
    "seq= \"ATTCGTTAT\"\n",
    "def get_at_content(dna):\n",
    "    length=len(dna)\n",
    "    a_count=dna.count('A')\n",
    "    t_count=dna.upper().count('T')\n",
    "    at_count=(a_count+t_count)/length\n",
    "    return at_count\n"
   ]
  },
  {
   "cell_type": "code",
   "execution_count": 22,
   "metadata": {
    "collapsed": false
   },
   "outputs": [
    {
     "name": "stdout",
     "output_type": "stream",
     "text": [
      "0.5294117647058824\n"
     ]
    }
   ],
   "source": [
    "print(get_at_content(\"ATGCATGCAACTGTAGC\"))"
   ]
  },
  {
   "cell_type": "markdown",
   "metadata": {},
   "source": [
    "## in class challenge.\n",
    "write a function that count the number of As,Ts,Cs,and Gs.Use a loop."
   ]
  },
  {
   "cell_type": "code",
   "execution_count": 36,
   "metadata": {
    "collapsed": false
   },
   "outputs": [
    {
     "data": {
      "text/plain": [
       "{'A': 9, 'C': 8, 'G': 4, 'T': 8}"
      ]
     },
     "execution_count": 36,
     "metadata": {},
     "output_type": "execute_result"
    }
   ],
   "source": [
    "def basecount(seq):\n",
    "    baseDict={}\n",
    "    for aa in {\"A\",\"T\",\"G\",\"C\"}:\n",
    "        count=seq.upper().count(aa)\n",
    "        baseDict[aa]=count\n",
    "        #print(aa + \"number in the sequence: \" + str(count))\n",
    "    return baseDict\n",
    "\n",
    "seq= \"ATCGJAATCTACGATCGACTACSUCTAGCTAT\"\n",
    "\n",
    "basecount(seq)"
   ]
  },
  {
   "cell_type": "code",
   "execution_count": null,
   "metadata": {
    "collapsed": true
   },
   "outputs": [],
   "source": []
  }
 ],
 "metadata": {
  "anaconda-cloud": {},
  "kernelspec": {
   "display_name": "Python [default]",
   "language": "python",
   "name": "python3"
  },
  "language_info": {
   "codemirror_mode": {
    "name": "ipython",
    "version": 3
   },
   "file_extension": ".py",
   "mimetype": "text/x-python",
   "name": "python",
   "nbconvert_exporter": "python",
   "pygments_lexer": "ipython3",
   "version": "3.5.2"
  }
 },
 "nbformat": 4,
 "nbformat_minor": 2
}
