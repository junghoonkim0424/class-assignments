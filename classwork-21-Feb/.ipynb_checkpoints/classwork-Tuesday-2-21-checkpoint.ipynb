{
 "cells": [
  {
   "cell_type": "markdown",
   "metadata": {},
   "source": [
    "In cocoli.txt, recr,pom,code,multi,and data are collected 3 times for each species.\n",
    "\n",
    "In cocolisp.txt, showing genius, species, and family of each species code.\n",
    "\n",
    "1.Multi2 refer to number of stems individual has.\n",
    "2.Dbh2 refer to recorded in mm, and Dbh2 is the measurement from census2.\n",
    "3.How can we find the genus and species name of this record?\n",
    "    find with spcode from cocolisp.txt file.\n",
    "4.What is the genus and species name of this record?\n",
    "    \n",
    "    eeb177-student@eeb177-VirtualBox:~/Desktop/eeb-177/class-assignments/classwork-21-Feb$ grep CAL2CA cocolisp.txt\n",
    "CAL2CA\tCalycophyllum\tcandidissimum\tRubiaceae\n",
    "\n",
    "species:candidissimum\n",
    "\n",
    "family:Rubiaceae\n",
    "\n",
    "5.000001 is unknown/missing between 1994 and 1998.\n",
    "\n",
    "6.000029 It is dead at some point. -1 from data column.\n",
    "\n",
    "7.Which genus is the most species rich in this community? Piper 7.\n",
    "\n",
    "8.How many genera have just one species represented in this\n",
    "community?\n",
    "\n",
    "cut -d \",\" -f 2 newcocolisp.txt |sort|uniq -c|sort -n| grep -w \"1\"|wc -l\n",
    "99\n",
    "\n",
    "\n"
   ]
  },
  {
   "cell_type": "markdown",
   "metadata": {},
   "source": [
    "Pseudo code.\n",
    "\n",
    "edit the file of cocoli.txt, sort like csv file, each data arranged with comma.\n",
    "\n",
    "Then column 5,6,and 7 will be dbh data to calculate RGR.\n",
    "Calculate three different RGR value in 1994­1998.\n",
    "Find the spcode, then find where it belong to from cocolisp.txt \n"
   ]
  }
 ],
 "metadata": {
  "anaconda-cloud": {},
  "kernelspec": {
   "display_name": "Python [default]",
   "language": "python",
   "name": "python3"
  },
  "language_info": {
   "codemirror_mode": {
    "name": "ipython",
    "version": 3
   },
   "file_extension": ".py",
   "mimetype": "text/x-python",
   "name": "python",
   "nbconvert_exporter": "python",
   "pygments_lexer": "ipython3",
   "version": "3.5.2"
  }
 },
 "nbformat": 4,
 "nbformat_minor": 2
}
