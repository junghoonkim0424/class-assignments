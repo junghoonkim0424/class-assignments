{
 "cells": [
  {
   "cell_type": "code",
   "execution_count": null,
   "metadata": {
    "collapsed": false
   },
   "outputs": [],
   "source": [
    "xx = user input of a temp in F\n",
    "yy = convert xx to C\n",
    "print yy"
   ]
  },
  {
   "cell_type": "code",
   "execution_count": null,
   "metadata": {
    "collapsed": true
   },
   "outputs": [],
   "source": [
    "temp = input(\"What is the temperature in Fahrenheit?\")\n",
    "cels = (float(temp)-32) * 5/9\n",
    "print(\"The temperature in C is {}\".format(cels))"
   ]
  },
  {
   "cell_type": "code",
   "execution_count": null,
   "metadata": {
    "collapsed": true
   },
   "outputs": [],
   "source": [
    "a = [1,1,2,3,5,8]"
   ]
  },
  {
   "cell_type": "code",
   "execution_count": null,
   "metadata": {
    "collapsed": true
   },
   "outputs": [],
   "source": [
    "for item in a:\n",
    "    print(item)"
   ]
  },
  {
   "cell_type": "code",
   "execution_count": null,
   "metadata": {
    "collapsed": true
   },
   "outputs": [],
   "source": [
    "m = {\"a\":\".-\", \"b\":\"-...-\", \"c\": '-.-.'}\n",
    "m.keys()"
   ]
  },
  {
   "cell_type": "code",
   "execution_count": null,
   "metadata": {
    "collapsed": true
   },
   "outputs": [],
   "source": [
    "my_dict={}\n",
    "my_dict={\"a\":\"test\", \"b\":3.14, \"c\"=[1,2,3,4]}\n",
    "GenomeSize={\"Homo sapiens\": 3200.0,\"Escherichia coli: 4,6,}"
   ]
  },
  {
   "cell_type": "code",
   "execution_count": 1,
   "metadata": {
    "collapsed": false
   },
   "outputs": [],
   "source": [
    "#Challenge\n",
    "a=[1,1,2,3,5,8]\n",
    "newlist= a[4:]\n",
    "testlist=a[-2:]\n",
    "testlist\n",
    "newlist\n",
    "a.append(13)\n",
    "a.reverse()"
   ]
  },
  {
   "cell_type": "code",
   "execution_count": 31,
   "metadata": {
    "collapsed": false
   },
   "outputs": [
    {
     "data": {
      "text/plain": [
       "[('dad', 'Sung'), ('sister', 'June'), ('mom', 'Lydia')]"
      ]
     },
     "execution_count": 31,
     "metadata": {},
     "output_type": "execute_result"
    }
   ],
   "source": [
    "fam_dict={\"dad\":\"Sung\", \"mom\":\"Lydia\" }\n",
    "fam_dict[\"sister\"]=\"June\"\n",
    "#for key in fam_dict.keys():\n",
    "#    print(fam_dict[key])\n",
    "#fam_dict.items()\n",
    "#for key , value in fam_dict.items():\n",
    "#    print(key, value)\n",
    "list(fam_dict.items())"
   ]
  },
  {
   "cell_type": "code",
   "execution_count": 40,
   "metadata": {
    "collapsed": false,
    "scrolled": true
   },
   "outputs": [
    {
     "name": "stdout",
     "output_type": "stream",
     "text": [
      "['sister', 'mom', 'dad']\n"
     ]
    }
   ],
   "source": [
    "#use a list to walk through your family dictionary in reverse alphabetical order of the keys\n",
    "relatives = list(fam_dict.keys())\n",
    "relatives.sort(reverse=True)\n",
    "#relatives.reverse()\n",
    "print(relatives)"
   ]
  },
  {
   "cell_type": "code",
   "execution_count": 2,
   "metadata": {
    "collapsed": true
   },
   "outputs": [],
   "source": [
    "Foodweb=[(\"a\",\"b\"), (\"a\",\"c\")]"
   ]
  },
  {
   "cell_type": "code",
   "execution_count": 3,
   "metadata": {
    "collapsed": false
   },
   "outputs": [
    {
     "data": {
      "text/plain": [
       "('a', 'b')"
      ]
     },
     "execution_count": 3,
     "metadata": {},
     "output_type": "execute_result"
    }
   ],
   "source": [
    "Foodweb[0]"
   ]
  },
  {
   "cell_type": "code",
   "execution_count": null,
   "metadata": {
    "collapsed": true
   },
   "outputs": [],
   "source": [
    "a = [5,6,7,7,7,8,9,9]\n",
    "set(a)"
   ]
  }
 ],
 "metadata": {
  "anaconda-cloud": {},
  "kernelspec": {
   "display_name": "Python [default]",
   "language": "python",
   "name": "python3"
  },
  "language_info": {
   "codemirror_mode": {
    "name": "ipython",
    "version": 3
   },
   "file_extension": ".py",
   "mimetype": "text/x-python",
   "name": "python",
   "nbconvert_exporter": "python",
   "pygments_lexer": "ipython3",
   "version": "3.5.2"
  }
 },
 "nbformat": 4,
 "nbformat_minor": 2
}
