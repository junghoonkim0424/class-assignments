{
 "cells": [
  {
   "cell_type": "code",
   "execution_count": 23,
   "metadata": {
    "collapsed": false
   },
   "outputs": [],
   "source": [
    "nature_birds= {}\n",
    "ff=open(\"/home/eeb177-student/Desktop/newbird.csv\" , \"r\", encoding=\"ISO-8859-15\")\n",
    "ss=ff.readlines()[1:]\n",
    "for line in ss:\n",
    "    sp=line.split(\",\")[3]\n",
    "    fam=line.split(\",\")[7]\n",
    "    nature_birds[sp]=fam\n",
    "ff.close()"
   ]
  },
  {
   "cell_type": "code",
   "execution_count": 24,
   "metadata": {
    "collapsed": false
   },
   "outputs": [],
   "source": [
    "def makeBirdDict(filename):\n",
    "    # this function opens the data file from Thomas et al. and extract the species \n",
    "    birdDict={}\n",
    "    fobj=open(filename,\"r\",encoding=\"ISO-8859-15\")#open the file \n",
    "    all_records= fobj.readlines()[1:] #read the file\n",
    "    for line in all_records:\n",
    "        record_elements= line.split(\",\")\n",
    "        species=record_elements[3]\n",
    "        family=record_elements[7]\n",
    "        birdDict[species]=family\n",
    "        \n",
    "        \n",
    "    #split lines on comma\n",
    "    #stick species and family into birddict\n",
    "    \n",
    "    return birdDict"
   ]
  },
  {
   "cell_type": "code",
   "execution_count": 25,
   "metadata": {
    "collapsed": false
   },
   "outputs": [
    {
     "name": "stdout",
     "output_type": "stream",
     "text": [
      "family of Abeillia abeillei is Trochilidae (Hummingbirds)\n"
     ]
    }
   ],
   "source": [
    "newbird=makeBirdDict(\"/home/eeb177-student/Desktop/newbird.csv\")\n",
    "species=list(newbird.keys())\n",
    "species.sort()\n",
    "species[0]\n",
    "print(\"family of \"+ species[0]+\" is \" + newbird[species[0]])\n"
   ]
  },
  {
   "cell_type": "code",
   "execution_count": null,
   "metadata": {
    "collapsed": true
   },
   "outputs": [],
   "source": [
    "seq = \"ATTTGTCTTC\"\n",
    "def (get_at_content=dna, sig_figs=2):\n",
    "    length=len(dna)\n",
    "    a_count=dna.upper().count('A')\n",
    "    t_count=dna.upper().count('T')wE\n",
    "    at_content=(a_content+t_content)"
   ]
  }
 ],
 "metadata": {
  "anaconda-cloud": {},
  "kernelspec": {
   "display_name": "Python [default]",
   "language": "python",
   "name": "python3"
  },
  "language_info": {
   "codemirror_mode": {
    "name": "ipython",
    "version": 3
   },
   "file_extension": ".py",
   "mimetype": "text/x-python",
   "name": "python",
   "nbconvert_exporter": "python",
   "pygments_lexer": "ipython3",
   "version": "3.5.2"
  }
 },
 "nbformat": 4,
 "nbformat_minor": 2
}
