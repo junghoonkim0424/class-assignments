{
 "cells": [
  {
   "cell_type": "markdown",
   "metadata": {},
   "source": [
    "09:30 Aditya Kantawala\n",
    "\n",
    "//\n",
    "09:34 Justin Shieh\n",
    "//\n",
    "09:38 Sarah Kim\n",
    "//\n",
    "09:42 Christina Zhou\n",
    "\n",
    "why there are many species of bats in South America?\n",
    "\n",
    "09:46 Gayane Hovsepyan\n",
    "\n",
    "why ADOS is higher to male compared to female.\n",
    "\n",
    "09:50 Roxana Nojoumi\n",
    "\n",
    "How climate affected horse??\n",
    "\n",
    "09:54 Cooper Kass\n",
    "\n",
    "what's the good thing of using PI histogram\n",
    "\n",
    "09:58 Jeffrey Lee\n",
    "\n",
    "Any other histogram to support ?\n",
    "\n",
    "10:02 Laura Trejo\n",
    "\n",
    "Maps are hard to recognize, Is they any other way like plotting dots on the map?\n",
    "\n",
    "10:06 Jin Kim\n",
    "\n",
    "Aves have wings, how they migrated??\n",
    "\n",
    "10:10 Marina Salama\n",
    "\n",
    "Using map or omore visualization isn't necessary to describe extinction?\n",
    "\n",
    "10:14 Erin Solis\n",
    "\n",
    "Why is the first funcion generates the same value of data??\n",
    "\n",
    "10:18 Sean Mathew\n",
    "\n",
    "When and where the tiger appeared at first?\n",
    "\n",
    "10:22 Tiffany Dang\n",
    "\n",
    "How did you create the animation of plotting marks on the map?"
   ]
  }
 ],
 "metadata": {
  "anaconda-cloud": {},
  "kernelspec": {
   "display_name": "Python [default]",
   "language": "python",
   "name": "python3"
  },
  "language_info": {
   "codemirror_mode": {
    "name": "ipython",
    "version": 3
   },
   "file_extension": ".py",
   "mimetype": "text/x-python",
   "name": "python",
   "nbconvert_exporter": "python",
   "pygments_lexer": "ipython3",
   "version": "3.5.2"
  }
 },
 "nbformat": 4,
 "nbformat_minor": 2
}
